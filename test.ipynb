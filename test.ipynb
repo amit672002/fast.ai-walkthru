{
 "cells": [
  {
   "cell_type": "markdown",
   "id": "4f8e0e34-1903-40e3-b607-ddb24b50e956",
   "metadata": {},
   "source": [
    "# Sample Notebook"
   ]
  },
  {
   "cell_type": "markdown",
   "id": "d018521f-cbde-4806-877e-974e8a07d1ff",
   "metadata": {},
   "source": []
  }
 ],
 "metadata": {
  "kernelspec": {
   "display_name": "Python 3 (ipykernel)",
   "language": "python",
   "name": "python3"
  },
  "language_info": {
   "codemirror_mode": {
    "name": "ipython",
    "version": 3
   },
   "file_extension": ".py",
   "mimetype": "text/x-python",
   "name": "python",
   "nbconvert_exporter": "python",
   "pygments_lexer": "ipython3",
   "version": "3.10.13"
  }
 },
 "nbformat": 4,
 "nbformat_minor": 5
}
